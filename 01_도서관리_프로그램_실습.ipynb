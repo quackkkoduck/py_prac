{
 "cells": [
  {
   "cell_type": "markdown",
   "id": "b4c89c0d-4490-4015-894f-39ec334488e1",
   "metadata": {
    "id": "b4c89c0d-4490-4015-894f-39ec334488e1"
   },
   "source": [
    "### <도서 입고/대출/반납 관리를위한 키오스크 파이썬 프로그램 실습>"
   ]
  },
  {
   "cell_type": "markdown",
   "id": "14b5e2bf-d613-49f1-9889-49414f706b21",
   "metadata": {
    "id": "14b5e2bf-d613-49f1-9889-49414f706b21"
   },
   "source": [
    "[미션]\n",
    " - 도서 목록 : 새로운 책이 도서관에 [입고]되었을 때 프로그램 작성\n",
    " - 도서 대출 : 도서 목록에서 임의 책을 빌리고자 할 때 [대출] 프로그램 작성\n",
    " - 도서 반납 : 대출한 도서를 [반납]하고자 할 때 프로그램 작성\n",
    " - 종료하기 : 종료하기에 대한 프로그램 작성\n",
    " - 도서 입고/대출/반납/종료 중 원하는 것을 선택했을 때 위 내용 수행합니다.\n",
    " - 프로그램을 종료하기 전까지는 위 내용은 누구든지 서비스를 받을 수 있도록...반복 실행\n",
    " - 도서에 대한 확인 값은 자유롭게 정의하셔서 진행\n",
    "\n",
    "[조건]\n",
    " - class 생성하여 처"
   ]
  },
  {
   "cell_type": "code",
   "execution_count": null,
   "id": "d1b4c60b-f2e8-4c98-aa17-4c5eef47ff6f",
   "metadata": {
    "id": "d1b4c60b-f2e8-4c98-aa17-4c5eef47ff6f"
   },
   "outputs": [],
   "source": [
    "### 기능을 수행할 클래스(모듈 or 라이브러리) 정의\n",
    "class LibraryKiosk :\n",
    "    ### 클래스 생성자 정의\n",
    "    def __init__(self) :\n",
    "        ### 도서 목록을 저장할 딕셔너리 변수 생성\n",
    "        # - 도서번호, 도서제목, 도서재고수량 정보 담기\n",
    "        self.books = {}\n",
    "        print(\"클래스 생성 되었습니다.\")\n",
    "\n",
    "    ### 도서입고 기능 정의하기\n",
    "    def add_book(self, book_id, title, quantity) :\n",
    "        ### 입고할 도서번호가 존재하는지 확인\n",
    "        # - 존재한다면 수량만 증가시키기\n",
    "        if book_id in self.books :\n",
    "            # self.books[book_id][\"quantity\"] = self.books[book_id][\"quantity\"] + quantity\n",
    "            self.books[book_id][\"quantity\"] += quantity\n",
    "        # - 존재하지 않는다면..\n",
    "        else :\n",
    "            # {\"001\" : {\"title\":\"파이썬 기초\", \"quantity\":4}}\n",
    "            self.books[book_id] = {\"title\":title, \"quantity\":quantity}\n",
    "\n",
    "        print(f\"도서번호:{book_id} / 제목:{title} / 입고수량:{quantity} 입고 성공!!\")\n",
    "\n",
    "    ### 대출 기능 정의하기\n",
    "    def borrow_book(self, book_id) :\n",
    "        ### 대출하고자하는 도서번호에 해당하는 재고수량 확인하기\n",
    "        if (book_id in self.books) and (self.books[book_id][\"quantity\"] > 0) :\n",
    "            # self.books[book_id][\"quantity\"] = self.books[book_id][\"quantity\"] - 1\n",
    "            self.books[book_id][\"quantity\"] -= 1\n",
    "\n",
    "            print(f\"도서번호:{book_id} / 제목:{self.books[book_id]['title']} / 남은재고수량:{self.books[book_id]['quantity']}\")\n",
    "        else :\n",
    "            print(\"도서가 존재하지 않거나, 대출할 재고가 없습니다.\")\n",
    "\n",
    "    ### 반납 기능 정의하기\n",
    "    def return_book(self, book_id) :\n",
    "        # - 반납할 도서번호가 도서목록에 있는지 확인\n",
    "        if book_id in self.books :\n",
    "            self.books[book_id][\"quantity\"] += 1\n",
    "            print(f\"도서번호:{book_id} / 제목:{self.books[book_id]['title']} / 남은재고수량:{self.books[book_id]['quantity']}\")\n",
    "\n",
    "        # - 해당 도서가 목록에 없다면\n",
    "        else :\n",
    "            print(\"해당 도서가 존재하지 않습니다.\")\n"
   ]
  },
  {
   "cell_type": "code",
   "execution_count": null,
   "id": "d0b04c74-0ca3-46dd-bba1-23c36be4499b",
   "metadata": {
    "id": "d0b04c74-0ca3-46dd-bba1-23c36be4499b",
    "outputId": "e4eae334-c9c1-4425-e102-d74184428560"
   },
   "outputs": [
    {
     "name": "stdout",
     "output_type": "stream",
     "text": [
      "클래스 생성 되었습니다.\n",
      "<__main__.LibraryKiosk object at 0x000002528C745E20>\n",
      "<도서 키오스크 메뉴>\n",
      "1. 도서 입고\n",
      "2. 도서 대출\n",
      "3. 도서 반납\n",
      "4. 종료\n"
     ]
    },
    {
     "name": "stdin",
     "output_type": "stream",
     "text": [
      "원하는 번호(1~4)를 선택하세요 :  1\n",
      "도서 번호를 입력해 주세요 :  001\n",
      "도서 제목를 입력해 주세요 :  파이썬 기초\n",
      "입고할 권수를 입력해 주세요 :  4\n"
     ]
    },
    {
     "name": "stdout",
     "output_type": "stream",
     "text": [
      "도서번호:001 / 제목:파이썬 기초 / 입고수량:4 입고 성공!!\n",
      "<도서 키오스크 메뉴>\n",
      "1. 도서 입고\n",
      "2. 도서 대출\n",
      "3. 도서 반납\n",
      "4. 종료\n"
     ]
    },
    {
     "name": "stdin",
     "output_type": "stream",
     "text": [
      "원하는 번호(1~4)를 선택하세요 :  1\n",
      "도서 번호를 입력해 주세요 :  002\n",
      "도서 제목를 입력해 주세요 :  파이썬 응용\n",
      "입고할 권수를 입력해 주세요 :  2\n"
     ]
    },
    {
     "name": "stdout",
     "output_type": "stream",
     "text": [
      "도서번호:002 / 제목:파이썬 응용 / 입고수량:2 입고 성공!!\n",
      "<도서 키오스크 메뉴>\n",
      "1. 도서 입고\n",
      "2. 도서 대출\n",
      "3. 도서 반납\n",
      "4. 종료\n"
     ]
    },
    {
     "name": "stdin",
     "output_type": "stream",
     "text": [
      "원하는 번호(1~4)를 선택하세요 :  2\n",
      "대출할 도서번호를 입력해주세요 :  002\n"
     ]
    },
    {
     "name": "stdout",
     "output_type": "stream",
     "text": [
      "도서번호:002 / 제목:파이썬 응용 / 남은재고수량:1\n",
      "<도서 키오스크 메뉴>\n",
      "1. 도서 입고\n",
      "2. 도서 대출\n",
      "3. 도서 반납\n",
      "4. 종료\n"
     ]
    },
    {
     "name": "stdin",
     "output_type": "stream",
     "text": [
      "원하는 번호(1~4)를 선택하세요 :  2\n",
      "대출할 도서번호를 입력해주세요 :  001\n"
     ]
    },
    {
     "name": "stdout",
     "output_type": "stream",
     "text": [
      "도서번호:001 / 제목:파이썬 기초 / 남은재고수량:3\n",
      "<도서 키오스크 메뉴>\n",
      "1. 도서 입고\n",
      "2. 도서 대출\n",
      "3. 도서 반납\n",
      "4. 종료\n"
     ]
    },
    {
     "name": "stdin",
     "output_type": "stream",
     "text": [
      "원하는 번호(1~4)를 선택하세요 :  3\n",
      "반납할 도서번호를 입력해주세요 :  001\n"
     ]
    },
    {
     "name": "stdout",
     "output_type": "stream",
     "text": [
      "도서번호:001 / 제목:파이썬 기초 / 남은재고수량:4\n",
      "<도서 키오스크 메뉴>\n",
      "1. 도서 입고\n",
      "2. 도서 대출\n",
      "3. 도서 반납\n",
      "4. 종료\n"
     ]
    },
    {
     "name": "stdin",
     "output_type": "stream",
     "text": [
      "원하는 번호(1~4)를 선택하세요 :  4\n"
     ]
    },
    {
     "name": "stdout",
     "output_type": "stream",
     "text": [
      "종료 선택\n"
     ]
    }
   ],
   "source": [
    "### 2. 최초에 실행할 기능(함수) 정의\n",
    "def main() :\n",
    "    ### 클래스 생성하기\n",
    "    # - 최초 한번 : 프로그램이 종료되면 클래스는 소멸(메모리 공간 삭제)됩니다.\n",
    "    kiosk = LibraryKiosk()\n",
    "    print(kiosk)\n",
    "\n",
    "    #print(\"main 함수 호출!!\")\n",
    "    ### 3. 메뉴 선택 보여주기\n",
    "    while True :\n",
    "        print(\"<도서 키오스크 메뉴>\")\n",
    "        print(\"1. 도서 입고\")\n",
    "        print(\"2. 도서 대출\")\n",
    "        print(\"3. 도서 반납\")\n",
    "        print(\"4. 종료\")\n",
    "\n",
    "        choice = input(\"원하는 번호(1~4)를 선택하세요 : \")\n",
    "\n",
    "        if choice == \"1\" :\n",
    "            #print(\"입고 선택\")\n",
    "            book_id = input(\"도서 번호를 입력해 주세요 : \")\n",
    "            title   = input(\"도서 제목를 입력해 주세요 : \")\n",
    "            quantity= int(input(\"입고할 권수를 입력해 주세요 : \"))\n",
    "            #print(f\"{book_id} / {title} / {quantity}\")\n",
    "\n",
    "            # - 클래스 내부의 입고 기능 호출하기\n",
    "            kiosk.add_book(book_id, title, quantity)\n",
    "\n",
    "        elif choice == \"2\" :\n",
    "            #print(\"대출 선택\")\n",
    "            book_id = input(\"대출할 도서번호를 입력해주세요 : \")\n",
    "\n",
    "            ### 클래스 내부의 대출 기능 호출하기\n",
    "            kiosk.borrow_book(book_id)\n",
    "\n",
    "        elif choice == \"3\" :\n",
    "            #print(\"반납 선택\")\n",
    "            book_id = input(\"반납할 도서번호를 입력해주세요 : \")\n",
    "\n",
    "            ### 클래스 내부의 반납 기능 호출하기\n",
    "            kiosk.return_book(book_id)\n",
    "\n",
    "        elif choice == \"4\" :\n",
    "            print(\"종료 선택\")\n",
    "            break\n",
    "        else :\n",
    "            print(\"잘못 선택...다시 선택해 주세요!!\")\n",
    "\n",
    "\n",
    "### 1. 최초 코드 시작\n",
    "if __name__ == \"__main__\" :\n",
    "    ### 최초에 실행할 기능(함수) 호출\n",
    "    main()"
   ]
  },
  {
   "cell_type": "code",
   "execution_count": null,
   "id": "7928e614-db73-4cb7-a739-bf98b7c66be4",
   "metadata": {
    "id": "7928e614-db73-4cb7-a739-bf98b7c66be4"
   },
   "outputs": [],
   "source": []
  },
  {
   "cell_type": "code",
   "execution_count": null,
   "id": "7cba30db-3b1f-48f2-9ef8-045fc210ccd9",
   "metadata": {
    "id": "7cba30db-3b1f-48f2-9ef8-045fc210ccd9"
   },
   "outputs": [],
   "source": []
  },
  {
   "cell_type": "code",
   "execution_count": null,
   "id": "e2ca72ff-81a0-46ce-95fc-2c10c65b1590",
   "metadata": {
    "id": "e2ca72ff-81a0-46ce-95fc-2c10c65b1590"
   },
   "outputs": [],
   "source": []
  },
  {
   "cell_type": "code",
   "execution_count": null,
   "id": "fba78ad6-ce20-4c6b-bd94-f46cafd224d7",
   "metadata": {
    "id": "fba78ad6-ce20-4c6b-bd94-f46cafd224d7"
   },
   "outputs": [],
   "source": []
  },
  {
   "cell_type": "code",
   "execution_count": null,
   "id": "da17128d-9971-49d0-afa2-afd83a794c1c",
   "metadata": {
    "id": "da17128d-9971-49d0-afa2-afd83a794c1c"
   },
   "outputs": [],
   "source": []
  },
  {
   "cell_type": "code",
   "execution_count": null,
   "id": "1b69a8f8-e247-4759-82a9-bd41b04a2d4b",
   "metadata": {
    "id": "1b69a8f8-e247-4759-82a9-bd41b04a2d4b"
   },
   "outputs": [],
   "source": []
  },
  {
   "cell_type": "code",
   "execution_count": null,
   "id": "14baa435-a845-4af3-a46e-4a41118c1b04",
   "metadata": {
    "id": "14baa435-a845-4af3-a46e-4a41118c1b04"
   },
   "outputs": [],
   "source": []
  },
  {
   "cell_type": "code",
   "execution_count": null,
   "id": "d0ac6797-1be9-4ade-a69e-fe2b8b650ba1",
   "metadata": {
    "id": "d0ac6797-1be9-4ade-a69e-fe2b8b650ba1"
   },
   "outputs": [],
   "source": []
  },
  {
   "cell_type": "code",
   "execution_count": null,
   "id": "61c5cf58-7da8-4530-b6df-3d2f4782f634",
   "metadata": {
    "id": "61c5cf58-7da8-4530-b6df-3d2f4782f634"
   },
   "outputs": [],
   "source": []
  },
  {
   "cell_type": "code",
   "execution_count": null,
   "id": "e0c20999-5f08-4c07-941f-e1fa9d40b76d",
   "metadata": {
    "id": "e0c20999-5f08-4c07-941f-e1fa9d40b76d"
   },
   "outputs": [],
   "source": []
  }
 ],
 "metadata": {
  "colab": {
   "provenance": []
  },
  "kernelspec": {
   "display_name": "gj_env_01",
   "language": "python",
   "name": "gj_env_01"
  },
  "language_info": {
   "codemirror_mode": {
    "name": "ipython",
    "version": 3
   },
   "file_extension": ".py",
   "mimetype": "text/x-python",
   "name": "python",
   "nbconvert_exporter": "python",
   "pygments_lexer": "ipython3",
   "version": "3.9.18"
  }
 },
 "nbformat": 4,
 "nbformat_minor": 5
}
