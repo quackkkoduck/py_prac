{
 "cells": [
  {
   "cell_type": "markdown",
   "id": "a0c186b5-64f3-40bf-804e-abeeb02e933b",
   "metadata": {},
   "source": [
    "<유니코드 프로그램>\n",
    " - 유니코드(Unicode)는 전 세계의 모든 문자를 표현하기 위한 표준 인코딩 체계\n",
    " - 유니코드 프로그램 : 언어, 문자, 특수기호 등의 표준화"
   ]
  },
  {
   "cell_type": "code",
   "execution_count": 1,
   "id": "af911c84-f923-4eae-ac29-fd4b8bd127b1",
   "metadata": {},
   "outputs": [
    {
     "name": "stdout",
     "output_type": "stream",
     "text": [
      "파이썬(python) 재미있어요!!!\n"
     ]
    }
   ],
   "source": [
    "### 문자열 결합하기\n",
    "string1 = \"파이썬(python)\"\n",
    "string2 = \" 재미있어요\"\n",
    "string3 = \"!!!\"\n",
    "print(string1 + string2 + string3)"
   ]
  },
  {
   "cell_type": "code",
   "execution_count": 3,
   "id": "06827040-d34f-40a3-8476-6495da607ef1",
   "metadata": {},
   "outputs": [
    {
     "data": {
      "text/plain": [
       "b'\\xec\\x95\\x88\\xeb\\x85\\x95\\xed\\x95\\x98\\xec\\x84\\xb8\\xec\\x9a\\x94'"
      ]
     },
     "execution_count": 3,
     "metadata": {},
     "output_type": "execute_result"
    }
   ],
   "source": [
    "### 문자열을 UTF-8로 인코딩하기\n",
    "text = \"안녕하세요\"\n",
    "encode_text = text.encode(\"utf-8\")\n",
    "encode_text"
   ]
  },
  {
   "cell_type": "code",
   "execution_count": 4,
   "id": "a74a3e2c-c873-4628-9249-8fb6d4551ad1",
   "metadata": {},
   "outputs": [
    {
     "data": {
      "text/plain": [
       "'안녕하세요'"
      ]
     },
     "execution_count": 4,
     "metadata": {},
     "output_type": "execute_result"
    }
   ],
   "source": [
    "### 문자열을 UTF-8로 디코딩하기\n",
    "decode_text = encode_text.decode(\"utf-8\")\n",
    "decode_text"
   ]
  },
  {
   "cell_type": "code",
   "execution_count": 11,
   "id": "dcb96938-f254-4677-a90e-2e3501bc5136",
   "metadata": {},
   "outputs": [
    {
     "name": "stdout",
     "output_type": "stream",
     "text": [
      "안\n",
      "녕\n",
      "하\n",
      "세\n",
      "요\n",
      "안\n",
      "녕\n",
      "하\n",
      "세\n",
      "요\n"
     ]
    }
   ],
   "source": [
    "### \"안녕하세요\" 문자열에서 문자 각각 출력해주세요\n",
    "# - 인덱스 번호를 이용하는 방식으로 해주세요...\n",
    "\n",
    "### for문 - 값을 이용해서 추출하는 방식\n",
    "for v in decode_text :\n",
    "    print(v)\n",
    "\n",
    "### for문 - 인덱스 번호를 이용해서 추출하는 방식\n",
    "for i in range(0, len(decode_text), 1) :\n",
    "    print(decode_text[i])"
   ]
  },
  {
   "cell_type": "code",
   "execution_count": 13,
   "id": "1925c49e-6fcc-4aa1-b2f0-f6d9e743067c",
   "metadata": {},
   "outputs": [
    {
     "name": "stdout",
     "output_type": "stream",
     "text": [
      "☃\n",
      "☃☃☃☃☃\n"
     ]
    }
   ],
   "source": [
    "### 눈사람 모양 유니코드 만들기\n",
    "char = \"\\u2603\"\n",
    "print(char)\n",
    "\n",
    "# 반복문을 이용하지 말고, 눈사람 5개를 연속해서 출력해주세요\n",
    "print(char * 5)"
   ]
  },
  {
   "cell_type": "code",
   "execution_count": 14,
   "id": "be4c9773-93ed-4c24-939c-189c99df6f00",
   "metadata": {},
   "outputs": [
    {
     "name": "stdout",
     "output_type": "stream",
     "text": [
      "65 A\n"
     ]
    }
   ],
   "source": [
    "### 십진수 숫자값을 문자로 변환하기\n",
    "num = 65\n",
    "print(num, chr(num))"
   ]
  },
  {
   "cell_type": "code",
   "execution_count": 15,
   "id": "d0a3b959-9034-4032-987b-ed9c9dd2f99d",
   "metadata": {},
   "outputs": [
    {
     "name": "stdout",
     "output_type": "stream",
     "text": [
      "2\n"
     ]
    }
   ],
   "source": [
    "### 문자열에서 특정 문자의 위치 찾기\n",
    "string = \"안녕하세요!!!\"\n",
    "\n",
    "# \"하\"라는 문자의 위치(인덱스) 찾아주세요...\n",
    "print(string.index(\"하\"))"
   ]
  },
  {
   "cell_type": "code",
   "execution_count": 16,
   "id": "00552f51-6b87-4ade-ae1a-a985dc794b17",
   "metadata": {},
   "outputs": [
    {
     "name": "stdout",
     "output_type": "stream",
     "text": [
      "파이썬 기초 문법\n"
     ]
    }
   ],
   "source": [
    "### 문자 치환하기\n",
    "string = \"python 기초 문법\"\n",
    "\n",
    "# \"python\" 영문 문자열을 찾아서 \"파이썬\" 한글명으로 수정하기\n",
    "print(string.replace(\"python\", \"파이썬\"))"
   ]
  },
  {
   "cell_type": "code",
   "execution_count": null,
   "id": "66dfce08-58a7-4382-a423-bbdb848fd848",
   "metadata": {},
   "outputs": [],
   "source": []
  }
 ],
 "metadata": {
  "kernelspec": {
   "display_name": "gj_env_01_kernel",
   "language": "python",
   "name": "gj_env_01"
  },
  "language_info": {
   "codemirror_mode": {
    "name": "ipython",
    "version": 3
   },
   "file_extension": ".py",
   "mimetype": "text/x-python",
   "name": "python",
   "nbconvert_exporter": "python",
   "pygments_lexer": "ipython3",
   "version": "3.9.18"
  }
 },
 "nbformat": 4,
 "nbformat_minor": 5
}
