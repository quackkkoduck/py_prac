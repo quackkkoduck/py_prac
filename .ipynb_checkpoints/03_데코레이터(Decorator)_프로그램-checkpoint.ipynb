{
 "cells": [
  {
   "cell_type": "markdown",
   "id": "2679ab18-e539-47e7-9787-99f5c36f3433",
   "metadata": {},
   "source": [
    "<데코레이터(Decorator)>\n",
    " - 함수의 재사용성을 확장한 개념의 방법"
   ]
  },
  {
   "cell_type": "markdown",
   "id": "146b42fb-8786-4f18-b70c-9b3b6d72ae6a",
   "metadata": {},
   "source": [
    "<함수 실행 시간 확인하는 데코레이터 프로그램 작성>"
   ]
  },
  {
   "cell_type": "code",
   "execution_count": 1,
   "id": "424d094e-8f8f-4bea-a77e-b68013cfb8ce",
   "metadata": {},
   "outputs": [],
   "source": [
    "import time"
   ]
  },
  {
   "cell_type": "code",
   "execution_count": 6,
   "id": "53b3b881-b8b5-4ed0-9297-2366de30f8ce",
   "metadata": {},
   "outputs": [],
   "source": [
    "### 데코레이터 함수 정의하기\n",
    "# - func : 실제 처리할 함수 받아오는 매개변수\n",
    "def timer_decorator(func) :\n",
    "    print(f\"#1 : func = {func}\")\n",
    "    \n",
    "    ### 실제 실행될 함수 정의 (함수 이름은 자유롭게)\n",
    "    # - func로 받은 함수를 아래 함수로 재정의하게 됨\n",
    "    def wrapper(*args, **kwargs) :\n",
    "        # - 시작시간\n",
    "        start_time = time.time()\n",
    "        print(f\"#2 : start_time = {start_time}\")\n",
    "\n",
    "        ### 실제 처리할 함수 : func\n",
    "        rs = func(*args, **kwargs)\n",
    "        print(f\"#3 : rs = {rs}\")\n",
    "        \n",
    "        # - 종료시간\n",
    "        end_time = time.time()\n",
    "        print(f\"#4 : end_time = {end_time}\")\n",
    "\n",
    "        return rs\n",
    "    print(\"#5 --------------------\")\n",
    "    return wrapper"
   ]
  },
  {
   "cell_type": "code",
   "execution_count": 7,
   "id": "6aea555f-4285-4b23-8a84-d8e58aab401b",
   "metadata": {},
   "outputs": [
    {
     "name": "stdout",
     "output_type": "stream",
     "text": [
      "#1 : func = <function exe_function at 0x000002B321A53670>\n",
      "#5 --------------------\n"
     ]
    }
   ],
   "source": [
    "### 데코레이터 호출 및 처리할 함수 정의하기\n",
    "# - 데코레이터 호출은 @이를 사용함\n",
    "# - 데코레이터 함수 호출 시 밑에 정의된 함수(exe_function)가 자동으로 전달됨\n",
    "# - 데코레이터 함수가 리턴한 wrapper 함수는 exe_function 이 됩니다.\n",
    "#    (재정의 되는 시점)\n",
    "@timer_decorator\n",
    "def exe_function() :\n",
    "    print(\"실제 처리할 함수\")\n",
    "    ### 2초간 대기 : 데코레이터가 처리되는 시간을 벌어주기 위해서\n",
    "    time.sleep(2)"
   ]
  },
  {
   "cell_type": "code",
   "execution_count": 8,
   "id": "1b06b85a-a38b-4ed2-9675-8aaa9dadfaf4",
   "metadata": {},
   "outputs": [
    {
     "name": "stdout",
     "output_type": "stream",
     "text": [
      "#2 : start_time = 1699930615.4073312\n",
      "실제 처리할 함수\n",
      "#3 : rs = None\n",
      "#4 : end_time = 1699930617.4100072\n"
     ]
    }
   ],
   "source": [
    "### 실제 처리하기\n",
    "exe_function()"
   ]
  },
  {
   "cell_type": "markdown",
   "id": "b3c42ad1-3d14-4156-8159-7cf813286ab0",
   "metadata": {},
   "source": [
    "<로그 데코레이터>"
   ]
  },
  {
   "cell_type": "code",
   "execution_count": 15,
   "id": "e4610872-80c4-46cb-965e-bbc9f9c48246",
   "metadata": {},
   "outputs": [],
   "source": [
    "def log_decorator(func) :\n",
    "    print(f\"#1 : func = {func}\")\n",
    "    def wrapper(*args, **kwargs) :\n",
    "        print(f\"Logo : {func.__name__} 함수 호출됨\")\n",
    "        rs = func(*args, **kwargs)\n",
    "        print(f\"Logo : {func.__name__} 함수 종료됨\")\n",
    "        return rs\n",
    "    print(\"#2 -------------\")\n",
    "    return wrapper"
   ]
  },
  {
   "cell_type": "code",
   "execution_count": 16,
   "id": "4b81a0b2-c354-42b0-be66-8960f3b1c2c5",
   "metadata": {},
   "outputs": [
    {
     "name": "stdout",
     "output_type": "stream",
     "text": [
      "#1 : func = <function another_function at 0x000002B323926040>\n",
      "#2 -------------\n"
     ]
    }
   ],
   "source": [
    "### 데코레이터 호출 및 처리함수 정의\n",
    "@log_decorator\n",
    "def another_function():\n",
    "    print(\"여긴 어디? 넌 누구?\")"
   ]
  },
  {
   "cell_type": "code",
   "execution_count": 18,
   "id": "332ee551-1cdf-429f-aa9b-2fa05797164f",
   "metadata": {},
   "outputs": [
    {
     "name": "stdout",
     "output_type": "stream",
     "text": [
      "Logo : another_function 함수 호출됨\n",
      "여긴 어디? 넌 누구?\n",
      "Logo : another_function 함수 종료됨\n"
     ]
    }
   ],
   "source": [
    "### 처리함수 호출\n",
    "another_function()"
   ]
  },
  {
   "cell_type": "markdown",
   "id": "9b4e1295-1c8b-4213-85ff-72cba6308576",
   "metadata": {},
   "source": [
    "<데코레이터 내부함수에서 처리된 결과를 받아보기>"
   ]
  },
  {
   "cell_type": "code",
   "execution_count": 22,
   "id": "6e62fb3d-2a75-4f95-99f6-71284be8f864",
   "metadata": {},
   "outputs": [],
   "source": [
    "def check_permission(param_id) :\n",
    "    print(f\"#1 : param_id = {param_id}\")\n",
    "    \n",
    "    def decorator(func) :\n",
    "        print(f\"#2 : func = {func}\")\n",
    "        \n",
    "        def wrapper(*args, **kwargs) :\n",
    "            check_id = \"admin\"            \n",
    "            print(f\"#3 : check_id = {check_id}\")\n",
    "\n",
    "            if check_id == param_id :\n",
    "                args = [\"인증성공\"]          \n",
    "                print(f\"#4 : args = {args}\")\n",
    "                \n",
    "                return func(*args, **kwargs)\n",
    "\n",
    "            else :         \n",
    "                print(f\"#5 : raise명령으로 강제 오류 발생 시킴 ---------\")\n",
    "                raise PermissionError(\"접근 불가!!\")\n",
    "        print(\"#6 ----------------\")\n",
    "        return wrapper\n",
    "    print(\"#7 ----------------\")\n",
    "    return decorator"
   ]
  },
  {
   "cell_type": "code",
   "execution_count": 23,
   "id": "858168cb-186d-46a6-b8b6-fcc241f350c7",
   "metadata": {},
   "outputs": [
    {
     "name": "stdout",
     "output_type": "stream",
     "text": [
      "#1 : param_id = admin\n",
      "#7 ----------------\n",
      "#2 : func = <function admin_function at 0x000002B32337C8B0>\n",
      "#6 ----------------\n"
     ]
    }
   ],
   "source": [
    "### 데코레이터 호출 및 처리함수 정의\n",
    "@check_permission(param_id = \"admin\")\n",
    "def admin_function(rs_msg) :\n",
    "    print(f\"인증 결과 : {rs_msg}\")"
   ]
  },
  {
   "cell_type": "code",
   "execution_count": 24,
   "id": "47cb37bf-602f-45fc-9c2a-dab65b0c037b",
   "metadata": {},
   "outputs": [
    {
     "name": "stdout",
     "output_type": "stream",
     "text": [
      "#3 : check_id = admin\n",
      "#4 : args = ['인증성공']\n",
      "인증 결과 : 인증성공\n"
     ]
    }
   ],
   "source": [
    "### 처리함수 호출\n",
    "admin_function()"
   ]
  },
  {
   "cell_type": "markdown",
   "id": "133ec77d-4207-45a6-a7e6-8f655a2f2a95",
   "metadata": {},
   "source": [
    "<영문 소문자 2개를 매개변수로 받아서, 대문자로 변환하는 데코레이터 프로그램>"
   ]
  },
  {
   "cell_type": "code",
   "execution_count": 25,
   "id": "426c8818-0207-406c-af93-a0c56b42ff43",
   "metadata": {},
   "outputs": [],
   "source": [
    "### 함수이름 자유롭게..생성\n",
    "# - 데코레이터 함수 생성하셔서 대문자로 출력까지...\n",
    "def decorator_upper(func) :\n",
    "    ### 인자로 넘어온 2개의 소문자는 args 매개변수가 받게됨\n",
    "    def wrapper(*args, **kwargs) :\n",
    "        ### 인자로 넘겨받은 개의 소문자를 대문자로 처리하는 영역\n",
    "        args = [arg.upper() for arg in args]\n",
    "        \n",
    "        ### 대문자로 변환된 값 2개를 args에 리스트 타입으로 담아서 넘기면 됨\n",
    "        return func(*args, **kwargs)\n",
    "    return wrapper"
   ]
  },
  {
   "cell_type": "code",
   "execution_count": 26,
   "id": "2aa259f1-6afc-4ebe-987f-a7367884550d",
   "metadata": {},
   "outputs": [],
   "source": [
    "### 데코레이터 호출 및 처리 함수 정의\n",
    "@decorator_upper\n",
    "def getUpper(param1, param2) :\n",
    "    print(f\"대문자로 변환된 {param1} / {param2}\")"
   ]
  },
  {
   "cell_type": "code",
   "execution_count": 27,
   "id": "aff9adfa-1b2b-49d9-b698-d10d8a126804",
   "metadata": {},
   "outputs": [
    {
     "name": "stdout",
     "output_type": "stream",
     "text": [
      "대문자로 변환된 ABCD / EFGH\n"
     ]
    }
   ],
   "source": [
    "### 처리하는 함수 호출 : 소문자 2개를 인자로 넘겨주기\n",
    "getUpper(\"abcd\", \"efgh\")"
   ]
  },
  {
   "cell_type": "code",
   "execution_count": 31,
   "id": "afb38d16-ff63-4083-a8af-201afd38aded",
   "metadata": {},
   "outputs": [
    {
     "name": "stdout",
     "output_type": "stream",
     "text": [
      "1 2\n"
     ]
    }
   ],
   "source": [
    "### 위치 매개변수를 사용하는 함수\n",
    "def function1(a, b) :\n",
    "    print(a, b)\n",
    "\n",
    "function1(1, 2)"
   ]
  },
  {
   "cell_type": "code",
   "execution_count": 40,
   "id": "e193155e-762d-40b2-9ca6-83ea691310e6",
   "metadata": {},
   "outputs": [
    {
     "name": "stdout",
     "output_type": "stream",
     "text": [
      "5 4\n"
     ]
    }
   ],
   "source": [
    "### 기본값(default) 정의 매개변수를 사용하는 함수\n",
    "def function2(a, b=3) :\n",
    "    print(a, b)\n",
    "\n",
    "function2(5, 4)"
   ]
  },
  {
   "cell_type": "code",
   "execution_count": 42,
   "id": "dc7d634a-7210-4952-90f1-169f3fba8d10",
   "metadata": {},
   "outputs": [
    {
     "name": "stdout",
     "output_type": "stream",
     "text": [
      "3 5\n",
      "4 6\n"
     ]
    }
   ],
   "source": [
    "### 키워드 정의 방식\n",
    "def function3(a, b) :\n",
    "    print(a, b)\n",
    "\n",
    "function3(a=3, b=5)\n",
    "function3(b=6, a=4)"
   ]
  },
  {
   "cell_type": "code",
   "execution_count": 45,
   "id": "a19bf1e6-51a8-4a15-a1b1-34d58facf4ae",
   "metadata": {},
   "outputs": [
    {
     "name": "stdout",
     "output_type": "stream",
     "text": [
      "(1, 2, 3)\n",
      "(1, 2, 3, 6, 9)\n"
     ]
    }
   ],
   "source": [
    "### 가변형 매개변수를 사용한 함수\n",
    "# 전달할 값이 몇개 일지 모를때 사용하는 방식\n",
    "def function4(*args) :\n",
    "    print(args)\n",
    "\n",
    "function4(1, 2, 3)\n",
    "function4(1, 2, 3, 6, 9)"
   ]
  },
  {
   "cell_type": "code",
   "execution_count": 49,
   "id": "659b8d33-243a-406d-aad1-820644f893dc",
   "metadata": {},
   "outputs": [
    {
     "name": "stdout",
     "output_type": "stream",
     "text": [
      "{'a': 1, 'b': 2, 'c': 3}\n",
      "{'a': 1, 'b': 2, 'c': 3, 'd': 6, 'e': 9}\n",
      "{'a': 33, 'b': 55}\n"
     ]
    }
   ],
   "source": [
    "### 가변 키워드 매개변수를 사용한 함수\n",
    "# 전달할 값이 몇개 일지 모를때 사용하는 방식\n",
    "def function5(**args) :\n",
    "    print(args)\n",
    "\n",
    "function5(a=1, b=2, c=3)\n",
    "function5(a=1, b=2, c=3, d=6, e=9)\n",
    "\n",
    "dic = {\"a\" : 33, \"b\" : 55}\n",
    "function5(a=33, b=55)\n",
    "function5(**dic)"
   ]
  },
  {
   "cell_type": "markdown",
   "id": "f7a43396-db47-4129-ab7a-4ab8139cdd9d",
   "metadata": {},
   "source": [
    "<실습> 어제 작성한 도서관리 프로그램에 데코레이터를 적용해서 해주세요..."
   ]
  },
  {
   "cell_type": "code",
   "execution_count": 57,
   "id": "6f9a7cf5-c4f3-4a31-a550-a8b58d944965",
   "metadata": {},
   "outputs": [],
   "source": [
    "### 기능을 수행할 클래스(모듈 or 라이브러리) 정의\n",
    "class LibraryKiosk :\n",
    "    ### 클래스 생성자 정의\n",
    "    def __init__(self) :\n",
    "        ### 도서 목록을 저장할 딕셔너리 변수 생성\n",
    "        # - 도서번호, 도서제목, 도서재고수량 정보 담기\n",
    "        self.books = {}\n",
    "        print(\"클래스 생성 되었습니다.\")\n",
    "\n",
    "    #----------------------------------------------\n",
    "    ### 도서입고 데코레이터 함수 정의하기\n",
    "    def add_book_decorator(func) :\n",
    "        def wrapper(self, book_id, title, quantity):\n",
    "            ### 입고할 도서번호가 존재하는지 확인\n",
    "            # - 존재한다면 수량만 증가시키기\n",
    "            func(self, book_id, title, quantity)\n",
    "        return wrapper\n",
    "\n",
    "    ### 대출 데코레이터 함수 정의하기\n",
    "    def borrow_book_decorator(func) :\n",
    "        def wrapper(self, book_id):\n",
    "            func(self, book_id)\n",
    "        return wrapper\n",
    "\n",
    "    ### 반납 데코레이터 함수 정의하기\n",
    "    def return_book_decorator(func) :\n",
    "        def wrapper(self, book_id):\n",
    "            func(self, book_id)\n",
    "        return wrapper\n",
    "        \n",
    "    #----------------------------------------------\n",
    "\n",
    "    ### 도서입고 기능 정의하기\n",
    "    @add_book_decorator\n",
    "    def add_book(self, book_id, title, quantity) :\n",
    "        ### 입고할 도서번호가 존재하는지 확인\n",
    "        # - 존재한다면 수량만 증가시키기\n",
    "        if book_id in self.books :\n",
    "            # self.books[book_id][\"quantity\"] = self.books[book_id][\"quantity\"] + quantity\n",
    "            self.books[book_id][\"quantity\"] += quantity\n",
    "        # - 존재하지 않는다면..\n",
    "        else :\n",
    "            # {\"001\" : {\"title\":\"파이썬 기초\", \"quantity\":4}}\n",
    "            self.books[book_id] = {\"title\":title, \"quantity\":quantity}\n",
    "            \n",
    "        print(f\"도서번호:{book_id} / 제목:{title} / 입고수량:{quantity} 입고 성공!!\")\n",
    "\n",
    "    ### 대출 기능 정의하기\n",
    "    @borrow_book_decorator\n",
    "    def borrow_book(self, book_id) :\n",
    "        ### 대출하고자하는 도서번호에 해당하는 재고수량 확인하기\n",
    "        if (book_id in self.books) and (self.books[book_id][\"quantity\"] > 0) :\n",
    "            # self.books[book_id][\"quantity\"] = self.books[book_id][\"quantity\"] - 1\n",
    "            self.books[book_id][\"quantity\"] -= 1\n",
    "            \n",
    "            print(f\"도서번호:{book_id} / 제목:{self.books[book_id]['title']} / 남은재고수량:{self.books[book_id]['quantity']}\")\n",
    "        else :\n",
    "            print(\"도서가 존재하지 않거나, 대출할 재고가 없습니다.\")\n",
    "\n",
    "    ### 반납 기능 정의하기\n",
    "    @return_book_decorator\n",
    "    def return_book(self, book_id) :\n",
    "        # - 반납할 도서번호가 도서목록에 있는지 확인\n",
    "        if book_id in self.books :\n",
    "            self.books[book_id][\"quantity\"] += 1\n",
    "            print(f\"도서번호:{book_id} / 제목:{self.books[book_id]['title']} / 남은재고수량:{self.books[book_id]['quantity']}\")\n",
    "        \n",
    "        # - 해당 도서가 목록에 없다면\n",
    "        else :\n",
    "            print(\"해당 도서가 존재하지 않습니다.\")\n",
    "            "
   ]
  },
  {
   "cell_type": "code",
   "execution_count": 58,
   "id": "fdc2c929-c100-434e-8ec1-167b98e6a027",
   "metadata": {},
   "outputs": [
    {
     "name": "stdout",
     "output_type": "stream",
     "text": [
      "클래스 생성 되었습니다.\n",
      "<__main__.LibraryKiosk object at 0x000002B3234918B0>\n",
      "<도서 키오스크 메뉴>\n",
      "1. 도서 입고\n",
      "2. 도서 대출\n",
      "3. 도서 반납\n",
      "4. 종료\n"
     ]
    },
    {
     "name": "stdin",
     "output_type": "stream",
     "text": [
      "원하는 번호(1~4)를 선택하세요 :  1\n",
      "도서 번호를 입력해 주세요 :  001\n",
      "도서 제목를 입력해 주세요 :  abcd\n",
      "입고할 권수를 입력해 주세요 :  3\n"
     ]
    },
    {
     "name": "stdout",
     "output_type": "stream",
     "text": [
      "도서번호:001 / 제목:abcd / 입고수량:3 입고 성공!!\n",
      "<도서 키오스크 메뉴>\n",
      "1. 도서 입고\n",
      "2. 도서 대출\n",
      "3. 도서 반납\n",
      "4. 종료\n"
     ]
    },
    {
     "name": "stdin",
     "output_type": "stream",
     "text": [
      "원하는 번호(1~4)를 선택하세요 :  1\n",
      "도서 번호를 입력해 주세요 :  001\n",
      "도서 제목를 입력해 주세요 :  abcd\n",
      "입고할 권수를 입력해 주세요 :  2\n"
     ]
    },
    {
     "name": "stdout",
     "output_type": "stream",
     "text": [
      "도서번호:001 / 제목:abcd / 입고수량:2 입고 성공!!\n",
      "<도서 키오스크 메뉴>\n",
      "1. 도서 입고\n",
      "2. 도서 대출\n",
      "3. 도서 반납\n",
      "4. 종료\n"
     ]
    },
    {
     "name": "stdin",
     "output_type": "stream",
     "text": [
      "원하는 번호(1~4)를 선택하세요 :  2\n",
      "대출할 도서번호를 입력해주세요 :  001\n"
     ]
    },
    {
     "name": "stdout",
     "output_type": "stream",
     "text": [
      "도서번호:001 / 제목:abcd / 남은재고수량:4\n",
      "<도서 키오스크 메뉴>\n",
      "1. 도서 입고\n",
      "2. 도서 대출\n",
      "3. 도서 반납\n",
      "4. 종료\n"
     ]
    },
    {
     "name": "stdin",
     "output_type": "stream",
     "text": [
      "원하는 번호(1~4)를 선택하세요 :  3\n",
      "반납할 도서번호를 입력해주세요 :  001\n"
     ]
    },
    {
     "name": "stdout",
     "output_type": "stream",
     "text": [
      "도서번호:001 / 제목:abcd / 남은재고수량:5\n",
      "<도서 키오스크 메뉴>\n",
      "1. 도서 입고\n",
      "2. 도서 대출\n",
      "3. 도서 반납\n",
      "4. 종료\n"
     ]
    },
    {
     "name": "stdin",
     "output_type": "stream",
     "text": [
      "원하는 번호(1~4)를 선택하세요 :  4\n"
     ]
    },
    {
     "name": "stdout",
     "output_type": "stream",
     "text": [
      "종료 선택\n"
     ]
    }
   ],
   "source": [
    "### 2. 최초에 실행할 기능(함수) 정의\n",
    "def main() :\n",
    "    ### 클래스 생성하기\n",
    "    # - 최초 한번 : 프로그램이 종료되면 클래스는 소멸(메모리 공간 삭제)됩니다.\n",
    "    kiosk = LibraryKiosk()\n",
    "    print(kiosk)\n",
    "    \n",
    "    #print(\"main 함수 호출!!\")\n",
    "    ### 3. 메뉴 선택 보여주기\n",
    "    while True :\n",
    "        print(\"<도서 키오스크 메뉴>\")\n",
    "        print(\"1. 도서 입고\")\n",
    "        print(\"2. 도서 대출\")\n",
    "        print(\"3. 도서 반납\")\n",
    "        print(\"4. 종료\")\n",
    "\n",
    "        choice = input(\"원하는 번호(1~4)를 선택하세요 : \")\n",
    "\n",
    "        if choice == \"1\" :\n",
    "            #print(\"입고 선택\")\n",
    "            book_id = input(\"도서 번호를 입력해 주세요 : \")\n",
    "            title   = input(\"도서 제목를 입력해 주세요 : \")\n",
    "            quantity= int(input(\"입고할 권수를 입력해 주세요 : \"))\n",
    "            #print(f\"{book_id} / {title} / {quantity}\")\n",
    "\n",
    "            # - 클래스 내부의 입고 기능 호출하기\n",
    "            kiosk.add_book(book_id, title, quantity)\n",
    "            \n",
    "        elif choice == \"2\" :\n",
    "            #print(\"대출 선택\")\n",
    "            book_id = input(\"대출할 도서번호를 입력해주세요 : \")\n",
    "\n",
    "            ### 클래스 내부의 대출 기능 호출하기\n",
    "            kiosk.borrow_book(book_id)\n",
    "            \n",
    "        elif choice == \"3\" :\n",
    "            #print(\"반납 선택\")\n",
    "            book_id = input(\"반납할 도서번호를 입력해주세요 : \")\n",
    "\n",
    "            ### 클래스 내부의 반납 기능 호출하기\n",
    "            kiosk.return_book(book_id)\n",
    "            \n",
    "        elif choice == \"4\" :\n",
    "            print(\"종료 선택\")\n",
    "            break\n",
    "        else :\n",
    "            print(\"잘못 선택...다시 선택해 주세요!!\")\n",
    "    \n",
    "\n",
    "### 1. 최초 코드 시작\n",
    "if __name__ == \"__main__\" :\n",
    "    ### 최초에 실행할 기능(함수) 호출\n",
    "    main()"
   ]
  },
  {
   "cell_type": "code",
   "execution_count": null,
   "id": "228a070e-4faa-40b5-a218-204287a44344",
   "metadata": {},
   "outputs": [],
   "source": []
  },
  {
   "cell_type": "code",
   "execution_count": null,
   "id": "abbf5984-cf61-40c7-bce8-6a58ab65d4d4",
   "metadata": {},
   "outputs": [],
   "source": []
  },
  {
   "cell_type": "code",
   "execution_count": null,
   "id": "737df807-c835-47ab-9702-e6e7179f847c",
   "metadata": {},
   "outputs": [],
   "source": []
  },
  {
   "cell_type": "code",
   "execution_count": null,
   "id": "cc521a44-c651-4d51-b80e-78c6f8ea0750",
   "metadata": {},
   "outputs": [],
   "source": []
  },
  {
   "cell_type": "code",
   "execution_count": null,
   "id": "02624ce3-1043-4613-a553-259696cbb9fe",
   "metadata": {},
   "outputs": [],
   "source": []
  },
  {
   "cell_type": "code",
   "execution_count": null,
   "id": "8c33202e-2d4d-4ea7-bbc3-6eab03be7e40",
   "metadata": {},
   "outputs": [],
   "source": []
  },
  {
   "cell_type": "code",
   "execution_count": null,
   "id": "449b9692-800e-4976-86fd-70c72187d13e",
   "metadata": {},
   "outputs": [],
   "source": []
  },
  {
   "cell_type": "code",
   "execution_count": null,
   "id": "0040db7d-f321-4afc-afa3-7dacee8be258",
   "metadata": {},
   "outputs": [],
   "source": []
  },
  {
   "cell_type": "code",
   "execution_count": null,
   "id": "88843ac6-8956-4719-a909-c967f60c678b",
   "metadata": {},
   "outputs": [],
   "source": []
  },
  {
   "cell_type": "code",
   "execution_count": null,
   "id": "767b4775-7bd4-42c3-ac23-7001e6219b19",
   "metadata": {},
   "outputs": [],
   "source": []
  }
 ],
 "metadata": {
  "kernelspec": {
   "display_name": "gj_env_01_kernel",
   "language": "python",
   "name": "gj_env_01"
  },
  "language_info": {
   "codemirror_mode": {
    "name": "ipython",
    "version": 3
   },
   "file_extension": ".py",
   "mimetype": "text/x-python",
   "name": "python",
   "nbconvert_exporter": "python",
   "pygments_lexer": "ipython3",
   "version": "3.9.18"
  }
 },
 "nbformat": 4,
 "nbformat_minor": 5
}
