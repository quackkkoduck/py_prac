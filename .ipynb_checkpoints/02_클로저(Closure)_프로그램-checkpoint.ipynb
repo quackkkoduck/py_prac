{
 "cells": [
  {
   "cell_type": "markdown",
   "id": "5752aeaf-1c6f-4a16-95c0-afbd49979dfb",
   "metadata": {},
   "source": [
    "<클로저(Closure)>\n",
    " - 함수 안에 함수를 만들어서 사용하는 방식\n",
    " - 함수 안에 있는 함수는 바깥쪽 함수에서 참조해서 사용하는 방식으로 접근합니다.\n",
    " - 함수 안에 함수는 사용이 끝나면 메모리에서 해제되기 때문에 유용하게 사용하면 좋습니다."
   ]
  },
  {
   "cell_type": "markdown",
   "id": "2291cdfd-1aff-4381-bd46-a71a85995358",
   "metadata": {},
   "source": [
    "<클로저 함수 기초>"
   ]
  },
  {
   "cell_type": "code",
   "execution_count": 6,
   "id": "929a4d55-cc0e-4e8d-8a6c-f5f880991a44",
   "metadata": {},
   "outputs": [],
   "source": [
    "### 클로저 함수 정의하기\n",
    "def outer_function(x) :\n",
    "    print(f\"#1 : x = {x}\")\n",
    "    ### 내부 함수 정의 : 실제 실행되는 함수\n",
    "    def inner_function(y) :\n",
    "        print(f\"#2 : y = {y}\")\n",
    "        s = x + y\n",
    "        print(f\"#3 : s = {s}\")\n",
    "        return s\n",
    "    print(\"#4 -------\")\n",
    "    return inner_function"
   ]
  },
  {
   "cell_type": "code",
   "execution_count": 7,
   "id": "0db516d7-1895-4c1d-9958-d1bf477b82b9",
   "metadata": {},
   "outputs": [
    {
     "name": "stdout",
     "output_type": "stream",
     "text": [
      "#1 : x = 10\n",
      "#4 -------\n",
      "<function outer_function.<locals>.inner_function at 0x000002BD10B5A550>\n"
     ]
    }
   ],
   "source": [
    "### 클로저 함수 호출하기\n",
    "closure_exe = outer_function(10)\n",
    "print(closure_exe)\n",
    "\n",
    "# - closure_exe는 inner_function 자체를 리턴받은 함수를 의미함"
   ]
  },
  {
   "cell_type": "code",
   "execution_count": 8,
   "id": "6a2ef5eb-dd1c-4a1e-8937-ff92a533d1ae",
   "metadata": {},
   "outputs": [
    {
     "name": "stdout",
     "output_type": "stream",
     "text": [
      "#2 : y = 5\n",
      "#3 : s = 15\n",
      "15\n"
     ]
    }
   ],
   "source": [
    "### 내부 함수 호출하기\n",
    "result1 = closure_exe(5)\n",
    "print(result1)"
   ]
  },
  {
   "cell_type": "markdown",
   "id": "d724ec71-36b8-4a42-8189-6c3a431f6445",
   "metadata": {},
   "source": [
    "<클로저를 이용해서 누적합 계산하기>"
   ]
  },
  {
   "cell_type": "code",
   "execution_count": 24,
   "id": "d7a36af5-59e7-479d-b3af-b887a63d813f",
   "metadata": {},
   "outputs": [],
   "source": [
    "### 클로저를 이용해서 누적합 계산하기\n",
    "# - 사용함수명 : outer_function2(), inner_function2(num)\n",
    "# - 사용변수 : total(누적된값을 저장할 변수)\n",
    "def outer_function2() :\n",
    "    total = 0\n",
    "    print(f\"#1 : total = {total}\")\n",
    "    def inner_function2(num) :\n",
    "        ### nonlocal : 클로저 구조에서는 상위 변수를 내부 함수에서 사용못함\n",
    "        #            : 따라서, nonlocal을 지정해서 정의하면 외부 영역의 변수 사용가능\n",
    "        nonlocal total\n",
    "        print(f\"#2 : total = {total} / num = {num}\")\n",
    "        \n",
    "        total += num\n",
    "        print(f\"#3 : total = {total} / num = {num}\")\n",
    "        \n",
    "        return total\n",
    "    print(f\"#4--------------------\")\n",
    "    return inner_function2"
   ]
  },
  {
   "cell_type": "code",
   "execution_count": 25,
   "id": "995513fc-5c89-4e45-911d-b8e7b172fc66",
   "metadata": {},
   "outputs": [
    {
     "name": "stdout",
     "output_type": "stream",
     "text": [
      "#1 : total = 0\n",
      "#4--------------------\n",
      "<function outer_function2.<locals>.inner_function2 at 0x000002BD10F23040>\n"
     ]
    }
   ],
   "source": [
    "### 상위 함수 호출\n",
    "res_fnc = outer_function2()\n",
    "print(res_fnc)"
   ]
  },
  {
   "cell_type": "code",
   "execution_count": 26,
   "id": "05f96147-ebb7-4e8e-a39b-e9c2b4bd42cf",
   "metadata": {},
   "outputs": [
    {
     "name": "stdout",
     "output_type": "stream",
     "text": [
      "#2 : total = 0 / num = 5\n",
      "#3 : total = 5 / num = 5\n",
      "5\n"
     ]
    }
   ],
   "source": [
    "### 내부 함수 호출\n",
    "rs_total = res_fnc(5)\n",
    "print(rs_total)"
   ]
  },
  {
   "cell_type": "code",
   "execution_count": 27,
   "id": "267b7d38-06e4-4666-9fe9-8d09bf8ddcf5",
   "metadata": {},
   "outputs": [
    {
     "name": "stdout",
     "output_type": "stream",
     "text": [
      "#2 : total = 5 / num = 10\n",
      "#3 : total = 15 / num = 10\n",
      "15\n"
     ]
    }
   ],
   "source": [
    "### 내부 함수 호출\n",
    "rs_total = res_fnc(10)\n",
    "print(rs_total)"
   ]
  },
  {
   "cell_type": "markdown",
   "id": "ffe95530-fdb0-4b0d-a625-ce325abebb11",
   "metadata": {},
   "source": [
    "<조건부 클로저 함수 프로그래밍>"
   ]
  },
  {
   "cell_type": "code",
   "execution_count": null,
   "id": "54dace63-3b96-4d67-8595-f5310234737b",
   "metadata": {},
   "outputs": [],
   "source": [
    "def outer_function3(condition) :\n",
    "    def true_case():\n",
    "        return \"true_case 함수가 호출되었습니다.\"\n",
    "\n",
    "    def false_case():\n",
    "        return \"false_case 함수가 호출되었습니다.\"\n",
    "\n",
    "    rs = true_case if condition else false_case\n",
    "    \n",
    "    return rs"
   ]
  },
  {
   "cell_type": "code",
   "execution_count": null,
   "id": "bb6ed8d9-7276-4ac5-9486-ed2d42fb90c2",
   "metadata": {},
   "outputs": [],
   "source": []
  },
  {
   "cell_type": "code",
   "execution_count": null,
   "id": "aa6cc9a3-137c-4bf9-ab9b-632cfd980808",
   "metadata": {},
   "outputs": [],
   "source": []
  },
  {
   "cell_type": "code",
   "execution_count": null,
   "id": "1d730cfb-e177-4439-b1db-0b1c16477d80",
   "metadata": {},
   "outputs": [],
   "source": []
  }
 ],
 "metadata": {
  "kernelspec": {
   "display_name": "gj_env_01_kernel",
   "language": "python",
   "name": "gj_env_01"
  },
  "language_info": {
   "codemirror_mode": {
    "name": "ipython",
    "version": 3
   },
   "file_extension": ".py",
   "mimetype": "text/x-python",
   "name": "python",
   "nbconvert_exporter": "python",
   "pygments_lexer": "ipython3",
   "version": "3.9.18"
  }
 },
 "nbformat": 4,
 "nbformat_minor": 5
}
